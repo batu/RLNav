{
  "nbformat": 4,
  "nbformat_minor": 0,
  "metadata": {
    "accelerator": "GPU",
    "colab": {
      "name": "UnityML",
      "provenance": []
    },
    "kernelspec": {
      "display_name": "rlnav",
      "language": "python",
      "name": "rlnav"
    },
    "language_info": {
      "codemirror_mode": {
        "name": "ipython",
        "version": 3
      },
      "file_extension": ".py",
      "mimetype": "text/x-python",
      "name": "python",
      "nbconvert_exporter": "python",
      "pygments_lexer": "ipython3",
      "version": "3.8.8"
    }
  },
  "cells": [
    {
      "cell_type": "markdown",
      "metadata": {
        "id": "CI9NBEfyGY1e"
      },
      "source": [
        "Download requirements"
      ]
    },
    {
      "cell_type": "code",
      "metadata": {
        "id": "auFNjgw9Gd5z",
        "outputId": "b6bda6fb-a92d-42c1-d001-338c5472e197",
        "colab": {
          "base_uri": "https://localhost:8080/"
        }
      },
      "source": [
        "!git clone --recurse-submodules https://github.com/batu/RLAgency.git"
      ],
      "execution_count": 2,
      "outputs": [
        {
          "output_type": "stream",
          "text": [
            "fatal: destination path 'RLAgency' already exists and is not an empty directory.\n"
          ],
          "name": "stdout"
        }
      ]
    },
    {
      "cell_type": "code",
      "metadata": {
        "id": "_YFD0Tg7G9us",
        "outputId": "8d4b5ae3-6a95-45c3-f547-5d9aef4ad217",
        "colab": {
          "base_uri": "https://localhost:8080/"
        }
      },
      "source": [
        "!pip install -e RLAgency/stable-baselines3/\n",
        "!pip install mlagents\n",
        "!pip install gym_unity\n",
        "!pip install wandb"
      ],
      "execution_count": 3,
      "outputs": [
        {
          "output_type": "stream",
          "text": [
            "Obtaining file:///content/RLAgency/stable-baselines3\n",
            "Requirement already satisfied: gym>=0.17 in /usr/local/lib/python3.7/dist-packages (from stable-baselines3==1.1.0a1) (0.17.3)\n",
            "Requirement already satisfied: numpy in /usr/local/lib/python3.7/dist-packages (from stable-baselines3==1.1.0a1) (1.19.5)\n",
            "Requirement already satisfied: torch>=1.4.0 in /usr/local/lib/python3.7/dist-packages (from stable-baselines3==1.1.0a1) (1.8.1+cu101)\n",
            "Requirement already satisfied: cloudpickle in /usr/local/lib/python3.7/dist-packages (from stable-baselines3==1.1.0a1) (1.3.0)\n",
            "Requirement already satisfied: pandas in /usr/local/lib/python3.7/dist-packages (from stable-baselines3==1.1.0a1) (1.1.5)\n",
            "Requirement already satisfied: matplotlib in /usr/local/lib/python3.7/dist-packages (from stable-baselines3==1.1.0a1) (3.2.2)\n",
            "Requirement already satisfied: pyglet<=1.5.0,>=1.4.0 in /usr/local/lib/python3.7/dist-packages (from gym>=0.17->stable-baselines3==1.1.0a1) (1.5.0)\n",
            "Requirement already satisfied: scipy in /usr/local/lib/python3.7/dist-packages (from gym>=0.17->stable-baselines3==1.1.0a1) (1.4.1)\n",
            "Requirement already satisfied: typing-extensions in /usr/local/lib/python3.7/dist-packages (from torch>=1.4.0->stable-baselines3==1.1.0a1) (3.7.4.3)\n",
            "Requirement already satisfied: pytz>=2017.2 in /usr/local/lib/python3.7/dist-packages (from pandas->stable-baselines3==1.1.0a1) (2018.9)\n",
            "Requirement already satisfied: python-dateutil>=2.7.3 in /usr/local/lib/python3.7/dist-packages (from pandas->stable-baselines3==1.1.0a1) (2.8.1)\n",
            "Requirement already satisfied: pyparsing!=2.0.4,!=2.1.2,!=2.1.6,>=2.0.1 in /usr/local/lib/python3.7/dist-packages (from matplotlib->stable-baselines3==1.1.0a1) (2.4.7)\n",
            "Requirement already satisfied: cycler>=0.10 in /usr/local/lib/python3.7/dist-packages (from matplotlib->stable-baselines3==1.1.0a1) (0.10.0)\n",
            "Requirement already satisfied: kiwisolver>=1.0.1 in /usr/local/lib/python3.7/dist-packages (from matplotlib->stable-baselines3==1.1.0a1) (1.3.1)\n",
            "Requirement already satisfied: future in /usr/local/lib/python3.7/dist-packages (from pyglet<=1.5.0,>=1.4.0->gym>=0.17->stable-baselines3==1.1.0a1) (0.16.0)\n",
            "Requirement already satisfied: six>=1.5 in /usr/local/lib/python3.7/dist-packages (from python-dateutil>=2.7.3->pandas->stable-baselines3==1.1.0a1) (1.15.0)\n",
            "Installing collected packages: stable-baselines3\n",
            "  Found existing installation: stable-baselines3 1.1.0a1\n",
            "    Can't uninstall 'stable-baselines3'. No files were found to uninstall.\n",
            "  Running setup.py develop for stable-baselines3\n",
            "Successfully installed stable-baselines3\n",
            "Requirement already satisfied: mlagents in /usr/local/lib/python3.7/dist-packages (0.25.0)\n",
            "Requirement already satisfied: attrs>=19.3.0 in /usr/local/lib/python3.7/dist-packages (from mlagents) (20.3.0)\n",
            "Requirement already satisfied: cattrs<1.1.0; python_version < \"3.8\" in /usr/local/lib/python3.7/dist-packages (from mlagents) (1.0.0)\n",
            "Requirement already satisfied: protobuf>=3.6 in /usr/local/lib/python3.7/dist-packages (from mlagents) (3.12.4)\n",
            "Requirement already satisfied: grpcio>=1.11.0 in /usr/local/lib/python3.7/dist-packages (from mlagents) (1.32.0)\n",
            "Requirement already satisfied: mlagents-envs==0.25.0 in /usr/local/lib/python3.7/dist-packages (from mlagents) (0.25.0)\n",
            "Requirement already satisfied: pyyaml>=3.1.0 in /usr/local/lib/python3.7/dist-packages (from mlagents) (3.13)\n",
            "Requirement already satisfied: importlib-metadata; python_version < \"3.8\" in /usr/local/lib/python3.7/dist-packages (from mlagents) (3.8.1)\n",
            "Requirement already satisfied: tensorboard>=1.15 in /usr/local/lib/python3.7/dist-packages (from mlagents) (2.4.1)\n",
            "Requirement already satisfied: h5py>=2.9.0 in /usr/local/lib/python3.7/dist-packages (from mlagents) (2.10.0)\n",
            "Requirement already satisfied: numpy<2.0,>=1.13.3 in /usr/local/lib/python3.7/dist-packages (from mlagents) (1.19.5)\n",
            "Requirement already satisfied: torch<1.9.0,>=1.6.0; platform_system != \"Windows\" and python_version < \"3.9\" in /usr/local/lib/python3.7/dist-packages (from mlagents) (1.8.1+cu101)\n",
            "Requirement already satisfied: Pillow>=4.2.1 in /usr/local/lib/python3.7/dist-packages (from mlagents) (7.1.2)\n",
            "Requirement already satisfied: six>=1.9 in /usr/local/lib/python3.7/dist-packages (from protobuf>=3.6->mlagents) (1.15.0)\n",
            "Requirement already satisfied: setuptools in /usr/local/lib/python3.7/dist-packages (from protobuf>=3.6->mlagents) (54.2.0)\n",
            "Requirement already satisfied: cloudpickle in /usr/local/lib/python3.7/dist-packages (from mlagents-envs==0.25.0->mlagents) (1.3.0)\n",
            "Requirement already satisfied: typing-extensions>=3.6.4; python_version < \"3.8\" in /usr/local/lib/python3.7/dist-packages (from importlib-metadata; python_version < \"3.8\"->mlagents) (3.7.4.3)\n",
            "Requirement already satisfied: zipp>=0.5 in /usr/local/lib/python3.7/dist-packages (from importlib-metadata; python_version < \"3.8\"->mlagents) (3.4.1)\n",
            "Requirement already satisfied: tensorboard-plugin-wit>=1.6.0 in /usr/local/lib/python3.7/dist-packages (from tensorboard>=1.15->mlagents) (1.8.0)\n",
            "Requirement already satisfied: absl-py>=0.4 in /usr/local/lib/python3.7/dist-packages (from tensorboard>=1.15->mlagents) (0.12.0)\n",
            "Requirement already satisfied: google-auth<2,>=1.6.3 in /usr/local/lib/python3.7/dist-packages (from tensorboard>=1.15->mlagents) (1.28.0)\n",
            "Requirement already satisfied: markdown>=2.6.8 in /usr/local/lib/python3.7/dist-packages (from tensorboard>=1.15->mlagents) (3.3.4)\n",
            "Requirement already satisfied: google-auth-oauthlib<0.5,>=0.4.1 in /usr/local/lib/python3.7/dist-packages (from tensorboard>=1.15->mlagents) (0.4.3)\n",
            "Requirement already satisfied: wheel>=0.26; python_version >= \"3\" in /usr/local/lib/python3.7/dist-packages (from tensorboard>=1.15->mlagents) (0.36.2)\n",
            "Requirement already satisfied: requests<3,>=2.21.0 in /usr/local/lib/python3.7/dist-packages (from tensorboard>=1.15->mlagents) (2.23.0)\n",
            "Requirement already satisfied: werkzeug>=0.11.15 in /usr/local/lib/python3.7/dist-packages (from tensorboard>=1.15->mlagents) (1.0.1)\n",
            "Requirement already satisfied: rsa<5,>=3.1.4; python_version >= \"3.6\" in /usr/local/lib/python3.7/dist-packages (from google-auth<2,>=1.6.3->tensorboard>=1.15->mlagents) (4.7.2)\n",
            "Requirement already satisfied: cachetools<5.0,>=2.0.0 in /usr/local/lib/python3.7/dist-packages (from google-auth<2,>=1.6.3->tensorboard>=1.15->mlagents) (4.2.1)\n",
            "Requirement already satisfied: pyasn1-modules>=0.2.1 in /usr/local/lib/python3.7/dist-packages (from google-auth<2,>=1.6.3->tensorboard>=1.15->mlagents) (0.2.8)\n",
            "Requirement already satisfied: requests-oauthlib>=0.7.0 in /usr/local/lib/python3.7/dist-packages (from google-auth-oauthlib<0.5,>=0.4.1->tensorboard>=1.15->mlagents) (1.3.0)\n",
            "Requirement already satisfied: chardet<4,>=3.0.2 in /usr/local/lib/python3.7/dist-packages (from requests<3,>=2.21.0->tensorboard>=1.15->mlagents) (3.0.4)\n",
            "Requirement already satisfied: urllib3!=1.25.0,!=1.25.1,<1.26,>=1.21.1 in /usr/local/lib/python3.7/dist-packages (from requests<3,>=2.21.0->tensorboard>=1.15->mlagents) (1.24.3)\n",
            "Requirement already satisfied: idna<3,>=2.5 in /usr/local/lib/python3.7/dist-packages (from requests<3,>=2.21.0->tensorboard>=1.15->mlagents) (2.10)\n",
            "Requirement already satisfied: certifi>=2017.4.17 in /usr/local/lib/python3.7/dist-packages (from requests<3,>=2.21.0->tensorboard>=1.15->mlagents) (2020.12.5)\n",
            "Requirement already satisfied: pyasn1>=0.1.3 in /usr/local/lib/python3.7/dist-packages (from rsa<5,>=3.1.4; python_version >= \"3.6\"->google-auth<2,>=1.6.3->tensorboard>=1.15->mlagents) (0.4.8)\n",
            "Requirement already satisfied: oauthlib>=3.0.0 in /usr/local/lib/python3.7/dist-packages (from requests-oauthlib>=0.7.0->google-auth-oauthlib<0.5,>=0.4.1->tensorboard>=1.15->mlagents) (3.1.0)\n",
            "Requirement already satisfied: gym_unity in /usr/local/lib/python3.7/dist-packages (0.25.0)\n",
            "Requirement already satisfied: mlagents-envs==0.25.0 in /usr/local/lib/python3.7/dist-packages (from gym_unity) (0.25.0)\n",
            "Requirement already satisfied: gym in /usr/local/lib/python3.7/dist-packages (from gym_unity) (0.17.3)\n",
            "Requirement already satisfied: cloudpickle in /usr/local/lib/python3.7/dist-packages (from mlagents-envs==0.25.0->gym_unity) (1.3.0)\n",
            "Requirement already satisfied: pyyaml>=3.1.0 in /usr/local/lib/python3.7/dist-packages (from mlagents-envs==0.25.0->gym_unity) (3.13)\n",
            "Requirement already satisfied: numpy>=1.14.1 in /usr/local/lib/python3.7/dist-packages (from mlagents-envs==0.25.0->gym_unity) (1.19.5)\n",
            "Requirement already satisfied: grpcio>=1.11.0 in /usr/local/lib/python3.7/dist-packages (from mlagents-envs==0.25.0->gym_unity) (1.32.0)\n",
            "Requirement already satisfied: Pillow>=4.2.1 in /usr/local/lib/python3.7/dist-packages (from mlagents-envs==0.25.0->gym_unity) (7.1.2)\n",
            "Requirement already satisfied: protobuf>=3.6 in /usr/local/lib/python3.7/dist-packages (from mlagents-envs==0.25.0->gym_unity) (3.12.4)\n",
            "Requirement already satisfied: pyglet<=1.5.0,>=1.4.0 in /usr/local/lib/python3.7/dist-packages (from gym->gym_unity) (1.5.0)\n",
            "Requirement already satisfied: scipy in /usr/local/lib/python3.7/dist-packages (from gym->gym_unity) (1.4.1)\n",
            "Requirement already satisfied: six>=1.5.2 in /usr/local/lib/python3.7/dist-packages (from grpcio>=1.11.0->mlagents-envs==0.25.0->gym_unity) (1.15.0)\n",
            "Requirement already satisfied: setuptools in /usr/local/lib/python3.7/dist-packages (from protobuf>=3.6->mlagents-envs==0.25.0->gym_unity) (54.2.0)\n",
            "Requirement already satisfied: future in /usr/local/lib/python3.7/dist-packages (from pyglet<=1.5.0,>=1.4.0->gym->gym_unity) (0.16.0)\n"
          ],
          "name": "stdout"
        }
      ]
    },
    {
      "cell_type": "code",
      "metadata": {
        "id": "QAwg9WIcPdU_",
        "outputId": "e3456ce1-942d-4b61-e4d8-8255e1e56db4",
        "colab": {
          "base_uri": "https://localhost:8080/"
        }
      },
      "source": [
        "import os\n",
        "from google.colab import drive\n",
        "drive.mount('gdrive')"
      ],
      "execution_count": 4,
      "outputs": [
        {
          "output_type": "stream",
          "text": [
            "Drive already mounted at gdrive; to attempt to forcibly remount, call drive.mount(\"gdrive\", force_remount=True).\n"
          ],
          "name": "stdout"
        }
      ]
    },
    {
      "cell_type": "code",
      "metadata": {
        "id": "HPLT_B-waIYF"
      },
      "source": [
        "ENV_PATH = \"/content/gdrive/MyDrive/RLNav/Builds/BasicSingle20/Env.x86_64\""
      ],
      "execution_count": 5,
      "outputs": []
    },
    {
      "cell_type": "code",
      "metadata": {
        "id": "LmoMrfl1Q_oI"
      },
      "source": [
        "!chmod -R 755 {ENV_PATH}"
      ],
      "execution_count": 6,
      "outputs": []
    },
    {
      "cell_type": "code",
      "metadata": {
        "id": "8JJxIqQCRC1y",
        "outputId": "8fa5de40-406a-483f-9ea9-f2d509829abc",
        "colab": {
          "base_uri": "https://localhost:8080/"
        }
      },
      "source": [
        "os.path.isfile(ENV_PATH)"
      ],
      "execution_count": 7,
      "outputs": [
        {
          "output_type": "execute_result",
          "data": {
            "text/plain": [
              "True"
            ]
          },
          "metadata": {
            "tags": []
          },
          "execution_count": 7
        }
      ]
    },
    {
      "cell_type": "markdown",
      "metadata": {
        "id": "L_wK2B8JJwsQ",
        "outputId": "34529116-8689-4cf3-9467-58da865821ac"
      },
      "source": [
        "# Reinforcement Learning for Navigation"
      ]
    },
    {
      "cell_type": "code",
      "metadata": {
        "id": "A8tqLUEiNk1_"
      },
      "source": [
        "from stable_baselines3 import PPO\n",
        "from stable_baselines3.common.vec_env import SubprocVecEnv, DummyVecEnv\n",
        "from stable_baselines3.common.env_util import make_vec_env\n",
        "from stable_baselines3.common.utils import set_random_seed\n",
        "from stable_baselines3.common.monitor import Monitor\n",
        "from stable_baselines3.common.evaluation import evaluate_policy\n",
        "\n",
        "\n",
        "from pathlib import Path\n",
        "\n",
        "from mlagents_envs.environment import UnityEnvironment\n",
        "from gym_unity.envs import UnityToGymWrapper"
      ],
      "execution_count": 8,
      "outputs": []
    },
    {
      "cell_type": "code",
      "metadata": {
        "colab": {
          "base_uri": "https://localhost:8080/"
        },
        "id": "COrTDIasJxOm",
        "outputId": "301d16ac-d21f-47c8-ead7-05f4f1a66047"
      },
      "source": [
        "unity_env = UnityEnvironment(str(ENV_PATH), base_port=6024)\n",
        "env = UnityToGymWrapper(unity_env)\n",
        "env.close()"
      ],
      "execution_count": 10,
      "outputs": [
        {
          "output_type": "stream",
          "text": [
            "2021-04-09 22:50:41 INFO [environment.py:113] Connected to Unity environment with package version 1.8.1-preview and communication version 1.4.0\n",
            "2021-04-09 22:50:41 INFO [environment.py:282] Connected new brain:\n",
            "Basic?team=0\n",
            "2021-04-09 22:50:41 WARNING [__init__.py:92] The environment contains multiple observations. You must define allow_multiple_obs=True to receive them all. Otherwise, only the first visual observation (or vector observation ifthere are no visual observations) will be provided in the observation.\n",
            "/usr/local/lib/python3.7/dist-packages/gym/logger.py:30: UserWarning: \u001b[33mWARN: Box bound precision lowered by casting to float32\u001b[0m\n",
            "  warnings.warn(colorize('%s: %s'%('WARN', msg % args), 'yellow'))\n",
            "2021-04-09 22:50:46 INFO [environment.py:429] Environment shut down with return code 0.\n"
          ],
          "name": "stderr"
        }
      ]
    },
    {
      "cell_type": "code",
      "metadata": {
        "id": "rj4-JVDCGW0a",
        "outputId": "7219ac0c-63f3-4d9c-8c8b-068e594886bc",
        "colab": {
          "base_uri": "https://localhost:8080/"
        }
      },
      "source": [
        "log_dir = \"tmp/\"\n",
        "os.makedirs(log_dir, exist_ok=True)\n",
        "\n",
        "def make_env(rank, seed=0):\n",
        "    def _init():\n",
        "        unity_env = UnityEnvironment(str(ENV_PATH), base_port=6142 + rank)\n",
        "        env = UnityToGymWrapper(unity_env)\n",
        "        env.seed(seed + rank)\n",
        "        env = Monitor(env, log_dir)\n",
        "        return env\n",
        "    set_random_seed(seed)\n",
        "    return _init\n",
        "\n",
        "num_cpu = 4  # Number of processes to use\n",
        "env = DummyVecEnv([make_env(i) for i in range(num_cpu)])"
      ],
      "execution_count": 11,
      "outputs": [
        {
          "output_type": "stream",
          "text": [
            "2021-04-09 22:50:51 INFO [environment.py:113] Connected to Unity environment with package version 1.8.1-preview and communication version 1.4.0\n",
            "2021-04-09 22:50:51 INFO [environment.py:282] Connected new brain:\n",
            "Basic?team=0\n",
            "2021-04-09 22:50:51 WARNING [__init__.py:92] The environment contains multiple observations. You must define allow_multiple_obs=True to receive them all. Otherwise, only the first visual observation (or vector observation ifthere are no visual observations) will be provided in the observation.\n",
            "/usr/local/lib/python3.7/dist-packages/gym/logger.py:30: UserWarning: \u001b[33mWARN: Box bound precision lowered by casting to float32\u001b[0m\n",
            "  warnings.warn(colorize('%s: %s'%('WARN', msg % args), 'yellow'))\n",
            "2021-04-09 22:50:51 WARNING [__init__.py:283] Could not seed environment Basic?team=0\n",
            "2021-04-09 22:50:55 INFO [environment.py:113] Connected to Unity environment with package version 1.8.1-preview and communication version 1.4.0\n",
            "2021-04-09 22:50:55 INFO [environment.py:282] Connected new brain:\n",
            "Basic?team=0\n",
            "2021-04-09 22:50:55 WARNING [__init__.py:92] The environment contains multiple observations. You must define allow_multiple_obs=True to receive them all. Otherwise, only the first visual observation (or vector observation ifthere are no visual observations) will be provided in the observation.\n",
            "2021-04-09 22:50:55 WARNING [__init__.py:283] Could not seed environment Basic?team=0\n",
            "2021-04-09 22:50:58 INFO [environment.py:113] Connected to Unity environment with package version 1.8.1-preview and communication version 1.4.0\n",
            "2021-04-09 22:50:58 INFO [environment.py:282] Connected new brain:\n",
            "Basic?team=0\n",
            "2021-04-09 22:50:58 WARNING [__init__.py:92] The environment contains multiple observations. You must define allow_multiple_obs=True to receive them all. Otherwise, only the first visual observation (or vector observation ifthere are no visual observations) will be provided in the observation.\n",
            "2021-04-09 22:50:59 WARNING [__init__.py:283] Could not seed environment Basic?team=0\n",
            "2021-04-09 22:51:02 INFO [environment.py:113] Connected to Unity environment with package version 1.8.1-preview and communication version 1.4.0\n",
            "2021-04-09 22:51:02 INFO [environment.py:282] Connected new brain:\n",
            "Basic?team=0\n",
            "2021-04-09 22:51:02 WARNING [__init__.py:92] The environment contains multiple observations. You must define allow_multiple_obs=True to receive them all. Otherwise, only the first visual observation (or vector observation ifthere are no visual observations) will be provided in the observation.\n",
            "2021-04-09 22:51:02 WARNING [__init__.py:283] Could not seed environment Basic?team=0\n",
            "2021-04-09 22:51:06 INFO [environment.py:113] Connected to Unity environment with package version 1.8.1-preview and communication version 1.4.0\n",
            "2021-04-09 22:51:06 INFO [environment.py:282] Connected new brain:\n",
            "Basic?team=0\n",
            "2021-04-09 22:51:06 WARNING [__init__.py:92] The environment contains multiple observations. You must define allow_multiple_obs=True to receive them all. Otherwise, only the first visual observation (or vector observation ifthere are no visual observations) will be provided in the observation.\n",
            "2021-04-09 22:51:06 WARNING [__init__.py:283] Could not seed environment Basic?team=0\n",
            "2021-04-09 22:51:09 INFO [environment.py:113] Connected to Unity environment with package version 1.8.1-preview and communication version 1.4.0\n",
            "2021-04-09 22:51:09 INFO [environment.py:282] Connected new brain:\n",
            "Basic?team=0\n",
            "2021-04-09 22:51:09 WARNING [__init__.py:92] The environment contains multiple observations. You must define allow_multiple_obs=True to receive them all. Otherwise, only the first visual observation (or vector observation ifthere are no visual observations) will be provided in the observation.\n",
            "2021-04-09 22:51:10 WARNING [__init__.py:283] Could not seed environment Basic?team=0\n",
            "2021-04-09 22:51:13 INFO [environment.py:113] Connected to Unity environment with package version 1.8.1-preview and communication version 1.4.0\n",
            "2021-04-09 22:51:13 INFO [environment.py:282] Connected new brain:\n",
            "Basic?team=0\n",
            "2021-04-09 22:51:13 WARNING [__init__.py:92] The environment contains multiple observations. You must define allow_multiple_obs=True to receive them all. Otherwise, only the first visual observation (or vector observation ifthere are no visual observations) will be provided in the observation.\n",
            "2021-04-09 22:51:14 WARNING [__init__.py:283] Could not seed environment Basic?team=0\n",
            "2021-04-09 22:51:17 INFO [environment.py:113] Connected to Unity environment with package version 1.8.1-preview and communication version 1.4.0\n",
            "2021-04-09 22:51:17 INFO [environment.py:282] Connected new brain:\n",
            "Basic?team=0\n",
            "2021-04-09 22:51:17 WARNING [__init__.py:92] The environment contains multiple observations. You must define allow_multiple_obs=True to receive them all. Otherwise, only the first visual observation (or vector observation ifthere are no visual observations) will be provided in the observation.\n",
            "2021-04-09 22:51:17 WARNING [__init__.py:283] Could not seed environment Basic?team=0\n"
          ],
          "name": "stderr"
        }
      ]
    },
    {
      "cell_type": "code",
      "metadata": {
        "id": "TOL4P8hmd9fG",
        "outputId": "fa9778f9-be6d-4520-d086-e8b3e50068ce",
        "colab": {
          "base_uri": "https://localhost:8080/"
        }
      },
      "source": [
        "model = PPO('MlpPolicy', env, verbose=2)"
      ],
      "execution_count": 12,
      "outputs": [
        {
          "output_type": "stream",
          "text": [
            "Using cuda device\n"
          ],
          "name": "stdout"
        }
      ]
    },
    {
      "cell_type": "code",
      "metadata": {
        "id": "3suhu5tJGW0b",
        "outputId": "a473edc7-f43c-4f14-abae-7c12a6d4ba17",
        "colab": {
          "base_uri": "https://localhost:8080/"
        }
      },
      "source": [
        "model.learn(total_timesteps=50000)"
      ],
      "execution_count": null,
      "outputs": [
        {
          "output_type": "stream",
          "text": [
            "---------------------------------\n",
            "| rollout/           |          |\n",
            "|    ep_len_mean     | 241      |\n",
            "|    ep_rew_mean     | -0.189   |\n",
            "| time/              |          |\n",
            "|    fps             | 300      |\n",
            "|    iterations      | 1        |\n",
            "|    time_elapsed    | 54       |\n",
            "|    total_timesteps | 16384    |\n",
            "---------------------------------\n",
            "-----------------------------------------\n",
            "| rollout/                |             |\n",
            "|    ep_len_mean          | 247         |\n",
            "|    ep_rew_mean          | -0.27       |\n",
            "| time/                   |             |\n",
            "|    fps                  | 224         |\n",
            "|    iterations           | 2           |\n",
            "|    time_elapsed         | 145         |\n",
            "|    total_timesteps      | 32768       |\n",
            "| train/                  |             |\n",
            "|    approx_kl            | 0.004214269 |\n",
            "|    clip_fraction        | 0.0536      |\n",
            "|    clip_range           | 0.2         |\n",
            "|    entropy_loss         | -4.23       |\n",
            "|    explained_variance   | 0.173       |\n",
            "|    learning_rate        | 0.0003      |\n",
            "|    loss                 | -0.0228     |\n",
            "|    n_updates            | 10          |\n",
            "|    policy_gradient_loss | -0.00405    |\n",
            "|    std                  | 0.99        |\n",
            "|    value_loss           | 0.0129      |\n",
            "-----------------------------------------\n",
            "------------------------------------------\n",
            "| rollout/                |              |\n",
            "|    ep_len_mean          | 248          |\n",
            "|    ep_rew_mean          | -0.167       |\n",
            "| time/                   |              |\n",
            "|    fps                  | 206          |\n",
            "|    iterations           | 3            |\n",
            "|    time_elapsed         | 237          |\n",
            "|    total_timesteps      | 49152        |\n",
            "| train/                  |              |\n",
            "|    approx_kl            | 0.0053731184 |\n",
            "|    clip_fraction        | 0.0328       |\n",
            "|    clip_range           | 0.2          |\n",
            "|    entropy_loss         | -4.2         |\n",
            "|    explained_variance   | 0.185        |\n",
            "|    learning_rate        | 0.0003       |\n",
            "|    loss                 | -0.00349     |\n",
            "|    n_updates            | 20           |\n",
            "|    policy_gradient_loss | -0.00199     |\n",
            "|    std                  | 0.979        |\n",
            "|    value_loss           | 0.00861      |\n",
            "------------------------------------------\n"
          ],
          "name": "stdout"
        }
      ]
    },
    {
      "cell_type": "code",
      "metadata": {
        "id": "4zD8GYYyiKW_"
      },
      "source": [
        "evaluate_policy(model, model.get_env(), n_eval_episodes=3)"
      ],
      "execution_count": null,
      "outputs": []
    },
    {
      "cell_type": "code",
      "metadata": {
        "id": "khXeQvxc0FXP",
        "outputId": "f0e10338-c1a0-405b-cf6f-727c9b9c684f",
        "colab": {
          "base_uri": "https://localhost:8080/"
        }
      },
      "source": [
        ""
      ],
      "execution_count": 35,
      "outputs": [
        {
          "output_type": "execute_result",
          "data": {
            "text/plain": [
              "<stable_baselines3.common.vec_env.subproc_vec_env.SubprocVecEnv at 0x7f13e84a5f90>"
            ]
          },
          "metadata": {
            "tags": []
          },
          "execution_count": 35
        }
      ]
    },
    {
      "cell_type": "code",
      "metadata": {
        "id": "6OSBXSIMGW0c",
        "outputId": "ec99ecb3-a367-47c9-bd63-bae088487395",
        "colab": {
          "base_uri": "https://localhost:8080/"
        }
      },
      "source": [
        "obs = env.reset()[0:1]\n",
        "rew = 0\n",
        "for _ in range(1000):\n",
        "    action, _states = model.predict(obs)\n",
        "    obs, rewards, dones, info = env.envs[0].step(action)\n",
        "    rew += rewards\n",
        "    if(dones):\n",
        "      print(\"Episode complete!\", rew)"
      ],
      "execution_count": 87,
      "outputs": [
        {
          "output_type": "stream",
          "text": [
            "Episode complete! -0.1328778862953186\n",
            "Episode complete! -0.1650303453207016\n",
            "Episode complete! -0.3981654495000839\n"
          ],
          "name": "stdout"
        }
      ]
    }
  ]
}